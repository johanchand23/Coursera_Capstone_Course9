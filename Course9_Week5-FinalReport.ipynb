{
 "cells": [
  {
   "cell_type": "markdown",
   "metadata": {},
   "source": [
    "# Determine the area for a modern Japanese Restaurant franchise in Singapore"
   ]
  },
  {
   "cell_type": "markdown",
   "metadata": {},
   "source": [
    "## Introduction"
   ]
  },
  {
   "cell_type": "markdown",
   "metadata": {},
   "source": [
    "Japanese cuisine encompasses the regional and traditional foods of Japan, which have developed through centuries of social and economic changes. Japanese food is hands-down the most popular cuisine in Singapore. Wadatsumi Group, one of the leading F&B groups in Japan specialising in quality and authentic Japanese cuisine wants to expand their first branch to Singapore"
   ]
  },
  {
   "cell_type": "markdown",
   "metadata": {},
   "source": [
    "## Problem"
   ]
  },
  {
   "cell_type": "markdown",
   "metadata": {},
   "source": [
    "Propose a research for the best Area/ District in Singapore to open a new Japanese Restaurant franchise for Wadatsumi Group."
   ]
  },
  {
   "cell_type": "markdown",
   "metadata": {},
   "source": [
    "## Tools Requirements"
   ]
  },
  {
   "cell_type": "markdown",
   "metadata": {},
   "source": [
    "- Jupyter Notebooks\n",
    "- IBM Watson Account\n",
    "- Singapore Data Sets\n",
    "- Foursquare API"
   ]
  },
  {
   "cell_type": "markdown",
   "metadata": {},
   "source": [
    "## Methodology"
   ]
  },
  {
   "cell_type": "markdown",
   "metadata": {},
   "source": [
    "This project is using the information about Singapore's Districts and each District's Postal Code. Wikipedia page : https://en.wikipedia.org/wiki/Postal_codes_in_Singapore\n",
    "The information was craped using the BeautifulSoup library and converted into panda's dataframe. The dataframe was then combined with the information about each District's position (Latitude & Longitude) using https://github.com/johanchand23/Coursera_Capstone_Course9/blob/master/sg.csv. Then, the data was analyzed, cleaned, and processed. As a result, some features have been extracted and used. This project also utilizes the Foursquare API to explore location and trending venues to get the result for areas with popular Japanese restaurant. In addition, Folium was also used to visualize the location and distribution of Districts with most popular Japanese Restaurants all over Singapore."
   ]
  },
  {
   "cell_type": "markdown",
   "metadata": {},
   "source": [
    "## Results"
   ]
  },
  {
   "cell_type": "markdown",
   "metadata": {},
   "source": [
    "Our analysis shows that 'Orchard, Cairnhill, River Valley' is a trending District with popular Japanese Restaurants in the area, followed by some other locations. Based on the results, we recommend to open a new franchise of Japanese Restaurant in this area."
   ]
  },
  {
   "cell_type": "markdown",
   "metadata": {},
   "source": [
    "## Discussions"
   ]
  },
  {
   "cell_type": "markdown",
   "metadata": {},
   "source": [
    "The results incdicate that there are some Japanese Restaurants were established in Orchard, Cairnhill, River Valley. This area is consider a trending area in Singapore and this is a good opportunity to open a new franchise of a Japanese Restaurant nearby. We could compete with competitors to serve the best quality and improve the quality of service based on customer's feedback to other existing restaurants nearby."
   ]
  },
  {
   "cell_type": "markdown",
   "metadata": {},
   "source": [
    "## Conclusions"
   ]
  },
  {
   "cell_type": "markdown",
   "metadata": {},
   "source": [
    "In conclusion, Orchard, Cairnhill, River Valley is one of the most trending venue in Singapore and it has Japanese Restaurant category as the most popular category in the area. Therefore, a new franchise of a Japanese Restaurant in the particular area would be suggested."
   ]
  },
  {
   "cell_type": "code",
   "execution_count": null,
   "metadata": {},
   "outputs": [],
   "source": []
  }
 ],
 "metadata": {
  "kernelspec": {
   "display_name": "Python 3",
   "language": "python",
   "name": "python3"
  },
  "language_info": {
   "codemirror_mode": {
    "name": "ipython",
    "version": 3
   },
   "file_extension": ".py",
   "mimetype": "text/x-python",
   "name": "python",
   "nbconvert_exporter": "python",
   "pygments_lexer": "ipython3",
   "version": "3.6.6"
  }
 },
 "nbformat": 4,
 "nbformat_minor": 2
}
